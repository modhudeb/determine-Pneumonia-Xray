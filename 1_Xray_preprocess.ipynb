{
  "nbformat": 4,
  "nbformat_minor": 0,
  "metadata": {
    "colab": {
      "provenance": [],
      "mount_file_id": "1oRBxXwREhqE9gqvR9g4EB4L_Y94Tus_R",
      "authorship_tag": "ABX9TyPctfMS4zUhaVJYPgZxVMwc",
      "include_colab_link": true
    },
    "kernelspec": {
      "name": "python3",
      "display_name": "Python 3"
    },
    "language_info": {
      "name": "python"
    }
  },
  "cells": [
    {
      "cell_type": "markdown",
      "metadata": {
        "id": "view-in-github",
        "colab_type": "text"
      },
      "source": [
        "<a href=\"https://colab.research.google.com/github/modhudeb/determine-Pneumonia-Xray/blob/main/1_Xray_preprocess.ipynb\" target=\"_parent\"><img src=\"https://colab.research.google.com/assets/colab-badge.svg\" alt=\"Open In Colab\"/></a>"
      ]
    },
    {
      "cell_type": "markdown",
      "source": [
        "# imports"
      ],
      "metadata": {
        "id": "9s06hjz0NCIy"
      }
    },
    {
      "cell_type": "code",
      "execution_count": null,
      "metadata": {
        "id": "73pEW900HlEt"
      },
      "outputs": [],
      "source": [
        "import numpy as np\n",
        "import pandas as pd\n",
        "import matplotlib.pyplot as plt\n",
        "import os\n",
        "%matplotlib inline"
      ]
    },
    {
      "cell_type": "code",
      "source": [
        "from skimage import io, transform\n",
        "# import keras\n",
        "# from keras.layers import Conv2D, MaxPooling2D, Flatten, Dense"
      ],
      "metadata": {
        "id": "HRldeL8pH3vb"
      },
      "execution_count": null,
      "outputs": []
    },
    {
      "cell_type": "markdown",
      "source": [
        "# Preprocess"
      ],
      "metadata": {
        "id": "zb58wPlLNGgZ"
      }
    },
    {
      "cell_type": "code",
      "source": [
        "# /content/drive/MyDrive/data/Pneumonia/chest_xray_train"
      ],
      "metadata": {
        "id": "LnFZKrN8NIBi"
      },
      "execution_count": null,
      "outputs": []
    },
    {
      "cell_type": "code",
      "source": [
        "img = io.imread(\"/content/drive/MyDrive/data/Pneumonia/chest_xray_train/PNEUMONIA/VIRUS-355597-0004.jpeg\", as_gray=True)\n",
        "io.imshow(img/255)"
      ],
      "metadata": {
        "id": "dnRgI3eJOQYp"
      },
      "execution_count": null,
      "outputs": []
    },
    {
      "cell_type": "code",
      "source": [
        "img = transform.resize(img, (150,150))\n",
        "img = img.ravel()\n",
        "io.imshow(img.reshape(150,150))\n",
        "img.shape"
      ],
      "metadata": {
        "id": "-hwXOmoW4ceo"
      },
      "execution_count": null,
      "outputs": []
    },
    {
      "cell_type": "code",
      "source": [
        "os.listdir(\"/content/drive/MyDrive/data/Pneumonia/chest_xray_train/\")"
      ],
      "metadata": {
        "colab": {
          "base_uri": "https://localhost:8080/"
        },
        "id": "kPDIEeaGOodo",
        "outputId": "0db173e6-38b6-4363-c239-b27ad47229cb"
      },
      "execution_count": null,
      "outputs": [
        {
          "output_type": "execute_result",
          "data": {
            "text/plain": [
              "['PNEUMONIA', 'NORMAL']"
            ]
          },
          "metadata": {},
          "execution_count": 6
        }
      ]
    },
    {
      "cell_type": "code",
      "source": [
        "class Handler:\n",
        "  # function to crop image\n",
        "  def __imgCrop(img):\n",
        "    img = img[150:(img.shape[0]-150), 150:(img.shape[1]-150)]\n",
        "    return img\n",
        "\n",
        "  # function to resize and transform to 1D array\n",
        "  def preprocess(self, path:str):\n",
        "    img = io.imread(path, as_gray=True)\n",
        "    img = Handler.__imgCrop(img)\n",
        "    img = transform.resize(img, (150,150))\n",
        "    return img.ravel()\n"
      ],
      "metadata": {
        "id": "J-BS9In_2D8q"
      },
      "execution_count": null,
      "outputs": []
    },
    {
      "cell_type": "code",
      "source": [
        "images = []\n",
        "labels = []\n",
        "folders = ['NORMAL', 'PNEUMONIA']"
      ],
      "metadata": {
        "id": "pxA8Kj-x8UMs"
      },
      "execution_count": null,
      "outputs": []
    },
    {
      "cell_type": "code",
      "source": [
        "for ind, val in enumerate(folders):\n",
        "  imgNames = os.listdir(f\"/content/drive/MyDrive/data/Pneumonia/chest_xray_train/{val}\")\n",
        "  print(f\"{val} folder is processing. Please wait...\")\n",
        "  for nm in imgNames :\n",
        "    try:\n",
        "      arr = Handler().preprocess(f\"/content/drive/MyDrive/data/Pneumonia/chest_xray_train/{val}/{nm}\")\n",
        "      images.append(arr)\n",
        "      labels.append(ind)\n",
        "    except:\n",
        "      print(f\"Error file : {val}/{nm}\")\n",
        "      continue\n",
        "  print(f\"{val} folder done\")\n"
      ],
      "metadata": {
        "colab": {
          "base_uri": "https://localhost:8080/"
        },
        "id": "1iQBZj3O8i52",
        "outputId": "150a6d51-93c8-4d18-bd74-25155477b6a2"
      },
      "execution_count": null,
      "outputs": [
        {
          "output_type": "stream",
          "name": "stdout",
          "text": [
            "NORMAL folder is processing. Please wait...\n",
            "NORMAL folder done\n",
            "PNEUMONIA folder is processing. Please wait...\n",
            "Error file : PNEUMONIA/VIRUS-355597-0002.jpeg\n",
            "Error file : PNEUMONIA/VIRUS-385176-0010.jpeg\n",
            "Error file : PNEUMONIA/VIRUS-385176-0007.jpeg\n",
            "Error file : PNEUMONIA/VIRUS-385176-0009.jpeg\n",
            "Error file : PNEUMONIA/VIRUS-385176-0006.jpeg\n",
            "Error file : PNEUMONIA/VIRUS-385176-0008.jpeg\n",
            "Error file : PNEUMONIA/VIRUS-4233560-0004.jpeg\n",
            "Error file : PNEUMONIA/VIRUS-4462203-0008.jpeg\n",
            "Error file : PNEUMONIA/VIRUS-5507616-0002.jpeg\n",
            "Error file : PNEUMONIA/VIRUS-5701772-0003.jpeg\n",
            "Error file : PNEUMONIA/VIRUS-6076468-0012.jpeg\n",
            "Error file : PNEUMONIA/VIRUS-6559742-0002.jpeg\n",
            "Error file : PNEUMONIA/VIRUS-6592427-0002.jpeg\n",
            "Error file : PNEUMONIA/VIRUS-6565531-0006.jpeg\n",
            "Error file : PNEUMONIA/VIRUS-7082458-0001.jpeg\n",
            "Error file : PNEUMONIA/VIRUS-6791804-0003.jpeg\n",
            "Error file : PNEUMONIA/VIRUS-7082458-0002.jpeg\n",
            "Error file : PNEUMONIA/VIRUS-7418831-0008.jpeg\n",
            "Error file : PNEUMONIA/VIRUS-743788-0004.jpeg\n",
            "Error file : PNEUMONIA/VIRUS-8485124-0003.jpeg\n",
            "Error file : PNEUMONIA/VIRUS-92115-0005.jpeg\n",
            "Error file : PNEUMONIA/VIRUS-9613278-0002.jpeg\n",
            "Error file : PNEUMONIA/VIRUS-9613278-0003.jpeg\n",
            "Error file : PNEUMONIA/BACTERIA-7856102-0001.jpeg\n",
            "Error file : PNEUMONIA/BACTERIA-7807347-0001.jpeg\n",
            "Error file : PNEUMONIA/BACTERIA-7997783-0001.jpeg\n",
            "Error file : PNEUMONIA/BACTERIA-8241424-0007.jpeg\n",
            "Error file : PNEUMONIA/BACTERIA-8443594-0001.jpeg\n",
            "Error file : PNEUMONIA/BACTERIA-9307399-0001.jpeg\n",
            "Error file : PNEUMONIA/BACTERIA-9424776-0003.jpeg\n",
            "Error file : PNEUMONIA/BACTERIA-9424776-0001.jpeg\n",
            "Error file : PNEUMONIA/BACTERIA-9424776-0002.jpeg\n",
            "Error file : PNEUMONIA/BACTERIA-9821634-0001.jpeg\n",
            "Error file : PNEUMONIA/BACTERIA-992913-0002.jpeg\n",
            "Error file : PNEUMONIA/VIRUS-2043544-0001.jpeg\n",
            "Error file : PNEUMONIA/VIRUS-2119679-0002.jpeg\n",
            "Error file : PNEUMONIA/VIRUS-2358368-0003.jpeg\n",
            "Error file : PNEUMONIA/VIRUS-296472-0001.jpeg\n",
            "Error file : PNEUMONIA/VIRUS-3194796-0003.jpeg\n",
            "Error file : PNEUMONIA/VIRUS-3294243-0004.jpeg\n",
            "Error file : PNEUMONIA/VIRUS-355597-0004.jpeg\n",
            "Error file : PNEUMONIA/VIRUS-355597-0003.jpeg\n",
            "Error file : PNEUMONIA/BACTERIA-4410113-0002.jpeg\n",
            "Error file : PNEUMONIA/BACTERIA-4519487-0001.jpeg\n",
            "Error file : PNEUMONIA/BACTERIA-4770524-0001.jpeg\n",
            "Error file : PNEUMONIA/BACTERIA-4671230-0002.jpeg\n",
            "Error file : PNEUMONIA/BACTERIA-4671230-0003.jpeg\n",
            "Error file : PNEUMONIA/BACTERIA-4926034-0001.jpeg\n",
            "Error file : PNEUMONIA/BACTERIA-4926034-0002.jpeg\n",
            "Error file : PNEUMONIA/BACTERIA-5063219-0002.jpeg\n",
            "Error file : PNEUMONIA/BACTERIA-5063219-0001.jpeg\n",
            "Error file : PNEUMONIA/BACTERIA-556216-0001.jpeg\n",
            "Error file : PNEUMONIA/BACTERIA-5611910-0001.jpeg\n",
            "Error file : PNEUMONIA/BACTERIA-6257908-0003.jpeg\n",
            "Error file : PNEUMONIA/BACTERIA-6257908-0002.jpeg\n",
            "Error file : PNEUMONIA/BACTERIA-6257908-0001.jpeg\n",
            "Error file : PNEUMONIA/BACTERIA-6383526-0002.jpeg\n",
            "Error file : PNEUMONIA/BACTERIA-7237852-0001.jpeg\n",
            "Error file : PNEUMONIA/BACTERIA-7237852-0002.jpeg\n",
            "Error file : PNEUMONIA/BACTERIA-7422586-0001.jpeg\n",
            "Error file : PNEUMONIA/BACTERIA-7620642-0001.jpeg\n",
            "Error file : PNEUMONIA/BACTERIA-7620642-0004.jpeg\n",
            "Error file : PNEUMONIA/BACTERIA-7764644-0001.jpeg\n",
            "Error file : PNEUMONIA/BACTERIA-1251753-0002.jpeg\n",
            "Error file : PNEUMONIA/BACTERIA-1316845-0001.jpeg\n",
            "Error file : PNEUMONIA/BACTERIA-1427905-0001.jpeg\n",
            "Error file : PNEUMONIA/BACTERIA-1777631-0002.jpeg\n",
            "Error file : PNEUMONIA/BACTERIA-230688-0002.jpeg\n",
            "Error file : PNEUMONIA/BACTERIA-230688-0001.jpeg\n",
            "Error file : PNEUMONIA/BACTERIA-2609929-0001.jpeg\n",
            "Error file : PNEUMONIA/BACTERIA-2664973-0001.jpeg\n",
            "Error file : PNEUMONIA/BACTERIA-3044214-0001.jpeg\n",
            "Error file : PNEUMONIA/BACTERIA-3110493-0002.jpeg\n",
            "Error file : PNEUMONIA/BACTERIA-330954-0001.jpeg\n",
            "Error file : PNEUMONIA/BACTERIA-3345721-0001.jpeg\n",
            "Error file : PNEUMONIA/BACTERIA-3653597-0001.jpeg\n",
            "PNEUMONIA folder done\n"
          ]
        }
      ]
    },
    {
      "cell_type": "code",
      "source": [
        "df = pd.DataFrame(images)\n",
        "df[\"label\"] = labels"
      ],
      "metadata": {
        "id": "fjIA8kMU_9v2"
      },
      "execution_count": null,
      "outputs": []
    },
    {
      "cell_type": "code",
      "source": [
        "os.chdir(\"/content/drive/MyDrive/data/\")\n",
        "df.to_csv('files/xrayImg.csv', index_label='Num')"
      ],
      "metadata": {
        "id": "awOCDvDAAUz2"
      },
      "execution_count": null,
      "outputs": []
    },
    {
      "cell_type": "code",
      "source": [
        "df['label'].value_counts()"
      ],
      "metadata": {
        "colab": {
          "base_uri": "https://localhost:8080/"
        },
        "id": "EBdgNgrOSOZt",
        "outputId": "dcf23251-1fa4-427a-e9b8-b63ce3d4045e"
      },
      "execution_count": null,
      "outputs": [
        {
          "output_type": "execute_result",
          "data": {
            "text/plain": [
              "1    3806\n",
              "0    1349\n",
              "Name: label, dtype: int64"
            ]
          },
          "metadata": {},
          "execution_count": 18
        }
      ]
    },
    {
      "cell_type": "code",
      "source": [
        "img.shape"
      ],
      "metadata": {
        "colab": {
          "base_uri": "https://localhost:8080/"
        },
        "id": "BgCNWg-SyoN7",
        "outputId": "bd46d466-30cf-44d7-93a1-e09cc1a6355f"
      },
      "execution_count": null,
      "outputs": [
        {
          "output_type": "execute_result",
          "data": {
            "text/plain": [
              "(1176, 1648)"
            ]
          },
          "metadata": {},
          "execution_count": 13
        }
      ]
    },
    {
      "cell_type": "code",
      "source": [],
      "metadata": {
        "id": "wqLG1xmtz7jA"
      },
      "execution_count": null,
      "outputs": []
    }
  ]
}