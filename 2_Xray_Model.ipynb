{
  "cells": [
    {
      "cell_type": "markdown",
      "metadata": {
        "id": "view-in-github",
        "colab_type": "text"
      },
      "source": [
        "<a href=\"https://colab.research.google.com/github/modhudeb/determine-Pneumonia-Xray/blob/main/2_Xray_Model.ipynb\" target=\"_parent\"><img src=\"https://colab.research.google.com/assets/colab-badge.svg\" alt=\"Open In Colab\"/></a>"
      ]
    },
    {
      "cell_type": "markdown",
      "metadata": {
        "id": "1oAt-D6XY9jh"
      },
      "source": [
        "# imports"
      ]
    },
    {
      "cell_type": "code",
      "execution_count": null,
      "metadata": {
        "id": "MiGnTP_3Yf0M"
      },
      "outputs": [],
      "source": [
        "import numpy as np\n",
        "import pandas as pd\n",
        "import matplotlib.pyplot as plt\n",
        "import os\n",
        "%matplotlib inline"
      ]
    },
    {
      "cell_type": "code",
      "source": [
        "from skimage import io, transform"
      ],
      "metadata": {
        "id": "SSilxNu2AmT0"
      },
      "execution_count": null,
      "outputs": []
    },
    {
      "cell_type": "code",
      "execution_count": null,
      "metadata": {
        "id": "kC_7m55ial-n"
      },
      "outputs": [],
      "source": [
        "from imblearn.over_sampling import SMOTE"
      ]
    },
    {
      "cell_type": "code",
      "execution_count": null,
      "metadata": {
        "id": "_iC2sKRdfjQQ"
      },
      "outputs": [],
      "source": [
        "from sklearn.model_selection import train_test_split"
      ]
    },
    {
      "cell_type": "code",
      "execution_count": null,
      "metadata": {
        "id": "M4AYFIKag2Ve"
      },
      "outputs": [],
      "source": [
        "from sklearn.svm import SVC"
      ]
    },
    {
      "cell_type": "code",
      "execution_count": null,
      "metadata": {
        "id": "_CGmi6CVlfY4"
      },
      "outputs": [],
      "source": [
        "from sklearn.neural_network import MLPClassifier"
      ]
    },
    {
      "cell_type": "code",
      "execution_count": null,
      "metadata": {
        "id": "fw6-vBGHip6G"
      },
      "outputs": [],
      "source": [
        "from sklearn.metrics import classification_report"
      ]
    },
    {
      "cell_type": "markdown",
      "metadata": {
        "id": "smyaBvc4ZBVQ"
      },
      "source": [
        "# Loading data"
      ]
    },
    {
      "cell_type": "code",
      "execution_count": null,
      "metadata": {
        "id": "lRawSmw0Y8gY"
      },
      "outputs": [],
      "source": [
        "data = pd.read_csv(\"/content/drive/MyDrive/data/files/xrayImg.csv\", index_col='Num')"
      ]
    },
    {
      "cell_type": "code",
      "execution_count": null,
      "metadata": {
        "id": "VmbCeu6mbKMI"
      },
      "outputs": [],
      "source": [
        "df = data.copy()"
      ]
    },
    {
      "cell_type": "code",
      "execution_count": null,
      "metadata": {
        "colab": {
          "base_uri": "https://localhost:8080/"
        },
        "id": "ZAfwg7eFZ-no",
        "outputId": "d6267269-125b-495d-c1c6-ef0ac5db9484"
      },
      "outputs": [
        {
          "output_type": "execute_result",
          "data": {
            "text/plain": [
              "1    3806\n",
              "0    1349\n",
              "Name: label, dtype: int64"
            ]
          },
          "metadata": {},
          "execution_count": 10
        }
      ],
      "source": [
        "df['label'].value_counts()"
      ]
    },
    {
      "cell_type": "code",
      "source": [
        "testData = pd.read_csv(\"/content/drive/MyDrive/data/files/xray_test.csv\", index_col='Num')\n",
        "tdf = testData.copy()"
      ],
      "metadata": {
        "id": "57tK4AWfeTph"
      },
      "execution_count": null,
      "outputs": []
    },
    {
      "cell_type": "markdown",
      "source": [
        "# EDA"
      ],
      "metadata": {
        "id": "HF1l0afcYTzS"
      }
    },
    {
      "cell_type": "markdown",
      "metadata": {
        "id": "ooTLR89JawQY"
      },
      "source": [
        "Handling imbalanced data"
      ]
    },
    {
      "cell_type": "code",
      "execution_count": null,
      "metadata": {
        "id": "QwEi3MiWaI9Y"
      },
      "outputs": [],
      "source": [
        "smote =  SMOTE(random_state=42, k_neighbors=5, n_jobs=-1)\n",
        "features, targets = smote.fit_resample(df.drop(columns=['label']), df['label'])"
      ]
    },
    {
      "cell_type": "code",
      "execution_count": null,
      "metadata": {
        "colab": {
          "base_uri": "https://localhost:8080/"
        },
        "id": "NXVUnTFPemRP",
        "outputId": "d43adb40-598b-401f-829a-a0ffc95b1eb7"
      },
      "outputs": [
        {
          "output_type": "execute_result",
          "data": {
            "text/plain": [
              "0    3806\n",
              "1    3806\n",
              "Name: label, dtype: int64"
            ]
          },
          "metadata": {},
          "execution_count": 14
        }
      ],
      "source": [
        "targets.value_counts()"
      ]
    },
    {
      "cell_type": "markdown",
      "metadata": {
        "id": "IRiWlIfmgksV"
      },
      "source": [
        "# Algorithms"
      ]
    },
    {
      "cell_type": "code",
      "source": [
        "# training full dataset\n",
        "mlpF = MLPClassifier(hidden_layer_sizes=(128,32,16), random_state=42)\n",
        "mlpF.fit(features, targets)"
      ],
      "metadata": {
        "colab": {
          "base_uri": "https://localhost:8080/"
        },
        "id": "Tg4mkx4uZCJL",
        "outputId": "63570e59-e00f-4f02-f2da-4c453f94874f"
      },
      "execution_count": null,
      "outputs": [
        {
          "output_type": "execute_result",
          "data": {
            "text/plain": [
              "MLPClassifier(hidden_layer_sizes=(128, 32, 16), random_state=42)"
            ]
          },
          "metadata": {},
          "execution_count": 15
        }
      ]
    },
    {
      "cell_type": "code",
      "source": [
        "rep1 = classification_report(tdf['label'], mlpF.predict(tdf.drop(columns=['label'])), target_names=['Normal', 'Pneumonia'])\n",
        "\n",
        "print(rep1)"
      ],
      "metadata": {
        "colab": {
          "base_uri": "https://localhost:8080/"
        },
        "id": "VWFHOHdkZ2m6",
        "outputId": "7cb401a2-73c5-4024-c18a-6f7ad7edd98a"
      },
      "execution_count": null,
      "outputs": [
        {
          "output_type": "stream",
          "name": "stdout",
          "text": [
            "              precision    recall  f1-score   support\n",
            "\n",
            "      Normal       0.98      0.48      0.65       234\n",
            "   Pneumonia       0.76      0.99      0.86       390\n",
            "\n",
            "    accuracy                           0.80       624\n",
            "   macro avg       0.87      0.74      0.76       624\n",
            "weighted avg       0.84      0.80      0.78       624\n",
            "\n"
          ]
        }
      ]
    },
    {
      "cell_type": "markdown",
      "source": [
        "Checking SVM with full dataset"
      ],
      "metadata": {
        "id": "EuwSrfi2O-oI"
      }
    },
    {
      "cell_type": "code",
      "source": [
        "svF = SVC(random_state=42, probability=True)\n",
        "svF.fit(features, targets)"
      ],
      "metadata": {
        "colab": {
          "base_uri": "https://localhost:8080/"
        },
        "id": "ZjVWGWN5O6de",
        "outputId": "c8434840-9209-4ca4-b42b-2a373c3b12e0"
      },
      "execution_count": null,
      "outputs": [
        {
          "output_type": "execute_result",
          "data": {
            "text/plain": [
              "SVC(probability=True, random_state=42)"
            ]
          },
          "metadata": {},
          "execution_count": 17
        }
      ]
    },
    {
      "cell_type": "code",
      "source": [
        "rep2 = classification_report(tdf['label'], svF.predict(tdf.drop(columns=['label'])), target_names=['Normal', 'Pneumonia'])\n",
        "\n",
        "print(rep2)"
      ],
      "metadata": {
        "colab": {
          "base_uri": "https://localhost:8080/"
        },
        "id": "K2WunIh4PI8u",
        "outputId": "9d58026b-1699-4778-8d5c-43e06318a585"
      },
      "execution_count": null,
      "outputs": [
        {
          "output_type": "stream",
          "name": "stdout",
          "text": [
            "              precision    recall  f1-score   support\n",
            "\n",
            "      Normal       0.97      0.66      0.79       234\n",
            "   Pneumonia       0.83      0.99      0.90       390\n",
            "\n",
            "    accuracy                           0.87       624\n",
            "   macro avg       0.90      0.83      0.85       624\n",
            "weighted avg       0.88      0.87      0.86       624\n",
            "\n"
          ]
        }
      ]
    },
    {
      "cell_type": "markdown",
      "source": [
        "# Testing with single image"
      ],
      "metadata": {
        "id": "X-DUhLnIZDDh"
      }
    },
    {
      "cell_type": "code",
      "source": [
        "# class for converting an Image to array\n",
        "\n",
        "class Handler:\n",
        "  # function to crop image\n",
        "  def __imgCrop(img):\n",
        "    img = img[150:(img.shape[0]-150), 150:(img.shape[1]-150)]\n",
        "    return img\n",
        "\n",
        "  # function to resize and transform to 1D array\n",
        "  def preprocess(self, path:str):\n",
        "    img = io.imread(path, as_gray=True)\n",
        "    img = Handler.__imgCrop(img)\n",
        "    img = transform.resize(img, (150,150))\n",
        "    return img.ravel()\n",
        "  \n"
      ],
      "metadata": {
        "id": "ys9Bi3y9ADEA"
      },
      "execution_count": null,
      "outputs": []
    },
    {
      "cell_type": "code",
      "source": [
        "imgArr = Handler().preprocess(\"BACTERIA-545831-0001.jpeg\")\n",
        "imgArr = np.array([imgArr],)\n",
        "pred = svF.predict_proba(imgArr)\n",
        "ind = np.argmax(pred)\n",
        "print(\"NORMAL\\n\\n\") if ind == 0 else print(\"PNEUMONIA\\n\\n\")"
      ],
      "metadata": {
        "colab": {
          "base_uri": "https://localhost:8080/"
        },
        "id": "9pgyMuJWAHKA",
        "outputId": "eecfef87-8724-4910-a9e5-0f3d05e6c39c"
      },
      "execution_count": null,
      "outputs": [
        {
          "output_type": "stream",
          "name": "stdout",
          "text": [
            "PNEUMONIA\n",
            "\n",
            "\n"
          ]
        },
        {
          "output_type": "stream",
          "name": "stderr",
          "text": [
            "/usr/local/lib/python3.8/dist-packages/sklearn/base.py:450: UserWarning: X does not have valid feature names, but MLPClassifier was fitted with feature names\n",
            "  warnings.warn(\n"
          ]
        }
      ]
    },
    {
      "cell_type": "code",
      "source": [
        "from sklearn.pipeline import Pipeline\n",
        "from joblib import dump"
      ],
      "metadata": {
        "id": "ZDqCEiYcgvC-"
      },
      "execution_count": null,
      "outputs": []
    },
    {
      "cell_type": "code",
      "source": [
        "ppl = Pipeline([('svm', svF)])"
      ],
      "metadata": {
        "id": "ryfyQiezgz0W"
      },
      "execution_count": null,
      "outputs": []
    },
    {
      "cell_type": "code",
      "source": [
        "ppl.score(tdf.drop(columns=['label']), tdf['label'])"
      ],
      "metadata": {
        "colab": {
          "base_uri": "https://localhost:8080/"
        },
        "id": "JHg-7P1Qhu76",
        "outputId": "23e716b5-924f-4f09-8217-7a47e66be456"
      },
      "execution_count": null,
      "outputs": [
        {
          "output_type": "execute_result",
          "data": {
            "text/plain": [
              "0.8669871794871795"
            ]
          },
          "metadata": {},
          "execution_count": 27
        }
      ]
    },
    {
      "cell_type": "code",
      "source": [
        "dump(ppl, 'Xray_SVM')"
      ],
      "metadata": {
        "colab": {
          "base_uri": "https://localhost:8080/"
        },
        "id": "fkPxxzWzh0Qp",
        "outputId": "e0f988f5-ebea-429f-de37-8b131f534faa"
      },
      "execution_count": null,
      "outputs": [
        {
          "output_type": "execute_result",
          "data": {
            "text/plain": [
              "['Xray_SVM']"
            ]
          },
          "metadata": {},
          "execution_count": 30
        }
      ]
    },
    {
      "cell_type": "markdown",
      "source": [
        "No Model is giving expected accuracy, so we will try CNN "
      ],
      "metadata": {
        "id": "QKvtFhmPn0Z9"
      }
    }
  ],
  "metadata": {
    "colab": {
      "provenance": [],
      "mount_file_id": "1UvEjYs7OgEHByYWC24M-5xYmwEUT9t8B",
      "authorship_tag": "ABX9TyMj4jOj972Y8chxtpLRs1/H",
      "include_colab_link": true
    },
    "kernelspec": {
      "display_name": "Python 3",
      "name": "python3"
    },
    "language_info": {
      "name": "python"
    }
  },
  "nbformat": 4,
  "nbformat_minor": 0
}