{
  "nbformat": 4,
  "nbformat_minor": 0,
  "metadata": {
    "colab": {
      "provenance": [],
      "mount_file_id": "1rUgGbvBfSNxFkFEavjytRT0CuPT4uBRr",
      "authorship_tag": "ABX9TyPf2YnfJm/k+LjrpsPmDh7i",
      "include_colab_link": true
    },
    "kernelspec": {
      "name": "python3",
      "display_name": "Python 3"
    },
    "language_info": {
      "name": "python"
    },
    "accelerator": "GPU",
    "gpuClass": "standard"
  },
  "cells": [
    {
      "cell_type": "markdown",
      "metadata": {
        "id": "view-in-github",
        "colab_type": "text"
      },
      "source": [
        "<a href=\"https://colab.research.google.com/github/modhudeb/determine-Pneumonia-Xray/blob/main/3_Xray_CNN_Model.ipynb\" target=\"_parent\"><img src=\"https://colab.research.google.com/assets/colab-badge.svg\" alt=\"Open In Colab\"/></a>"
      ]
    },
    {
      "cell_type": "markdown",
      "source": [
        "# imports"
      ],
      "metadata": {
        "id": "pdiuAwBjLKEt"
      }
    },
    {
      "cell_type": "code",
      "source": [
        "import numpy as np\n",
        "import pandas as pd\n",
        "import matplotlib.pyplot as plt\n",
        "import os\n",
        "%matplotlib inline"
      ],
      "metadata": {
        "id": "OVl-epkVXfHs"
      },
      "execution_count": 1,
      "outputs": []
    },
    {
      "cell_type": "code",
      "source": [
        "from skimage import io, transform"
      ],
      "metadata": {
        "id": "Aj0MEMIn6Hti"
      },
      "execution_count": 2,
      "outputs": []
    },
    {
      "cell_type": "code",
      "source": [
        "import tensorflow as tf\n",
        "from tensorflow.keras import models, layers"
      ],
      "metadata": {
        "id": "fBmWO4q3kBr9"
      },
      "execution_count": 21,
      "outputs": []
    },
    {
      "cell_type": "markdown",
      "source": [
        "# Loading"
      ],
      "metadata": {
        "id": "0D9WxngpLMPM"
      }
    },
    {
      "cell_type": "code",
      "source": [
        "df = pd.read_csv(\"/content/drive/MyDrive/data/files/xrayImg.csv\", index_col='Num')"
      ],
      "metadata": {
        "id": "jo6VRz8n3uds"
      },
      "execution_count": 4,
      "outputs": []
    },
    {
      "cell_type": "code",
      "source": [
        "ndf = pd.read_csv(\"/content/drive/MyDrive/data/files/xray_test.csv\", index_col='Num')"
      ],
      "metadata": {
        "id": "sWlJ_a5oK9Se"
      },
      "execution_count": 5,
      "outputs": []
    },
    {
      "cell_type": "markdown",
      "source": [
        "# Converting and splitting"
      ],
      "metadata": {
        "id": "qFdrjpzxLO2c"
      }
    },
    {
      "cell_type": "code",
      "source": [
        "features = df.drop(columns=['label'])\n",
        "targets = df['label']"
      ],
      "metadata": {
        "id": "jvHDQo9K36KC"
      },
      "execution_count": 6,
      "outputs": []
    },
    {
      "cell_type": "code",
      "source": [
        "nfeatures = ndf.drop(columns=['label'])\n",
        "ntargets = ndf['label']"
      ],
      "metadata": {
        "id": "GLULh8YoLV5d"
      },
      "execution_count": 7,
      "outputs": []
    },
    {
      "cell_type": "code",
      "source": [
        "class df_to_npImg :\n",
        "  \"\"\"This class converts your dataframe to numpy array and reshapes it with\n",
        "    given height and width.\n",
        "    N:B: use it only if your images were flattened before adding to pandas dataframe\n",
        "  \"\"\"\n",
        "  def __init__(self) -> None:\n",
        "    pass\n",
        "  \n",
        "  def apply(dframe:pd.DataFrame, height:int, width:int) -> np.array :\n",
        "    images = dframe.to_numpy()\n",
        "    arr = list(map(lambda z : z.reshape(height, width), images))\n",
        "    arr = np.asarray(arr)\n",
        "    return arr"
      ],
      "metadata": {
        "id": "XUvq-LSgIdWP"
      },
      "execution_count": 8,
      "outputs": []
    },
    {
      "cell_type": "code",
      "source": [
        "xtrain = df_to_npImg.apply(features, 150,150)\n",
        "xtest = df_to_npImg.apply(nfeatures, 150,150)\n",
        "\n",
        "ytrain = targets\n",
        "ytest = ntargets"
      ],
      "metadata": {
        "id": "fG4EDLc2MOlL"
      },
      "execution_count": 9,
      "outputs": []
    },
    {
      "cell_type": "code",
      "source": [
        "xtrain.shape"
      ],
      "metadata": {
        "colab": {
          "base_uri": "https://localhost:8080/"
        },
        "id": "oFl01NJZNUJV",
        "outputId": "f51a8421-06be-4120-dab6-f867ae156043"
      },
      "execution_count": 10,
      "outputs": [
        {
          "output_type": "execute_result",
          "data": {
            "text/plain": [
              "(5155, 150, 150)"
            ]
          },
          "metadata": {},
          "execution_count": 10
        }
      ]
    },
    {
      "cell_type": "code",
      "source": [
        "xtest.shape"
      ],
      "metadata": {
        "colab": {
          "base_uri": "https://localhost:8080/"
        },
        "id": "PITsfNOnNVLD",
        "outputId": "0db05ae2-6de2-4e7c-87a9-154657464af9"
      },
      "execution_count": 11,
      "outputs": [
        {
          "output_type": "execute_result",
          "data": {
            "text/plain": [
              "(624, 150, 150)"
            ]
          },
          "metadata": {},
          "execution_count": 11
        }
      ]
    },
    {
      "cell_type": "code",
      "source": [
        "train_dataset = tf.data.Dataset.from_tensor_slices((xtrain, ytrain))\n",
        "test_dataset = tf.data.Dataset.from_tensor_slices((xtest, ytest))"
      ],
      "metadata": {
        "id": "7TOlCjJ5Yljt"
      },
      "execution_count": 59,
      "outputs": []
    },
    {
      "cell_type": "code",
      "source": [
        "BATCH_SIZE = 64\n",
        "SHUFFLE_BUFFER_SIZE = 100\n",
        "\n",
        "train_dataset = train_dataset.shuffle(SHUFFLE_BUFFER_SIZE).batch(BATCH_SIZE)\n",
        "test_dataset = test_dataset.batch(BATCH_SIZE)"
      ],
      "metadata": {
        "id": "Gf7Dq6tgYz3-"
      },
      "execution_count": 60,
      "outputs": []
    },
    {
      "cell_type": "markdown",
      "source": [
        "# CNN model"
      ],
      "metadata": {
        "id": "i4WpxteKNkzU"
      }
    },
    {
      "cell_type": "code",
      "source": [
        "from tensorflow import keras"
      ],
      "metadata": {
        "id": "B8ZD7XreaD7L"
      },
      "execution_count": 29,
      "outputs": []
    },
    {
      "cell_type": "code",
      "source": [
        "cnn = models.Sequential([\n",
        "    layers.Conv2D(filters=32, kernel_size=(3,3), activation = 'relu', input_shape = (150,150, 1)),\n",
        "    layers.MaxPooling2D((2,2)),\n",
        "    layers.Conv2D(filters=64, kernel_size=(3,3), activation = 'selu'),\n",
        "    layers.MaxPooling2D((2,2)),\n",
        "    layers.Conv2D(filters=16, kernel_size=(3,3), activation = 'relu'),\n",
        "    layers.MaxPooling2D((2,2)),\n",
        "\n",
        "    layers.Flatten(),\n",
        "\n",
        "    layers.Dense(32, activation = 'relu'),\n",
        "    layers.Dense(1, activation = 'sigmoid')\n",
        "  ])\n",
        "\n"
      ],
      "metadata": {
        "id": "ybbcrmcTNmcL"
      },
      "execution_count": 71,
      "outputs": []
    },
    {
      "cell_type": "code",
      "source": [
        "with tf.device('/device:GPU:0'):\n",
        "  cnn.compile(optimizer=keras.optimizers.RMSprop(),\n",
        "            loss = keras.losses.BinaryCrossentropy(),\n",
        "            metrics = ['accuracy']\n",
        "            )\n",
        "  cnn.fit(train_dataset, epochs=20, validation_data=test_dataset)"
      ],
      "metadata": {
        "colab": {
          "base_uri": "https://localhost:8080/"
        },
        "id": "JgcIbkAzSdao",
        "outputId": "4a6cca86-41b4-4363-87d7-80b4864c8209"
      },
      "execution_count": 72,
      "outputs": [
        {
          "output_type": "stream",
          "name": "stdout",
          "text": [
            "Epoch 1/20\n",
            "81/81 [==============================] - 5s 46ms/step - loss: 0.1828 - accuracy: 0.9571 - val_loss: 7.4700 - val_accuracy: 0.6250\n",
            "Epoch 2/20\n",
            "81/81 [==============================] - 4s 44ms/step - loss: 0.3396 - accuracy: 0.9606 - val_loss: 6.5316 - val_accuracy: 0.6250\n",
            "Epoch 3/20\n",
            "81/81 [==============================] - 4s 44ms/step - loss: 0.2885 - accuracy: 0.9618 - val_loss: 5.3760 - val_accuracy: 0.6250\n",
            "Epoch 4/20\n",
            "81/81 [==============================] - 4s 43ms/step - loss: 0.2421 - accuracy: 0.9639 - val_loss: 5.7224 - val_accuracy: 0.6250\n",
            "Epoch 5/20\n",
            "81/81 [==============================] - 4s 43ms/step - loss: 0.2332 - accuracy: 0.9746 - val_loss: 7.1924 - val_accuracy: 0.6250\n",
            "Epoch 6/20\n",
            "81/81 [==============================] - 4s 44ms/step - loss: 0.2958 - accuracy: 0.9738 - val_loss: 5.7071 - val_accuracy: 0.6250\n",
            "Epoch 7/20\n",
            "81/81 [==============================] - 4s 43ms/step - loss: 0.2327 - accuracy: 0.9746 - val_loss: 4.9340 - val_accuracy: 0.6250\n",
            "Epoch 8/20\n",
            "81/81 [==============================] - 4s 44ms/step - loss: 0.2143 - accuracy: 0.9742 - val_loss: 4.8416 - val_accuracy: 0.6250\n",
            "Epoch 9/20\n",
            "81/81 [==============================] - 4s 43ms/step - loss: 0.2040 - accuracy: 0.9713 - val_loss: 4.2960 - val_accuracy: 0.6250\n",
            "Epoch 10/20\n",
            "81/81 [==============================] - 4s 43ms/step - loss: 0.1731 - accuracy: 0.9754 - val_loss: 3.9198 - val_accuracy: 0.6250\n",
            "Epoch 11/20\n",
            "81/81 [==============================] - 4s 44ms/step - loss: 0.1504 - accuracy: 0.9787 - val_loss: 4.9660 - val_accuracy: 0.6250\n",
            "Epoch 12/20\n",
            "81/81 [==============================] - 4s 43ms/step - loss: 0.1726 - accuracy: 0.9796 - val_loss: 4.5077 - val_accuracy: 0.6250\n",
            "Epoch 13/20\n",
            "81/81 [==============================] - 4s 44ms/step - loss: 0.1662 - accuracy: 0.9752 - val_loss: 3.5447 - val_accuracy: 0.6250\n",
            "Epoch 14/20\n",
            "81/81 [==============================] - 4s 44ms/step - loss: 0.1166 - accuracy: 0.9827 - val_loss: 4.0821 - val_accuracy: 0.6250\n",
            "Epoch 15/20\n",
            "81/81 [==============================] - 4s 45ms/step - loss: 0.1293 - accuracy: 0.9790 - val_loss: 4.9866 - val_accuracy: 0.6250\n",
            "Epoch 16/20\n",
            "81/81 [==============================] - 4s 44ms/step - loss: 0.1486 - accuracy: 0.9812 - val_loss: 2.8371 - val_accuracy: 0.6250\n",
            "Epoch 17/20\n",
            "81/81 [==============================] - 4s 44ms/step - loss: 0.0812 - accuracy: 0.9822 - val_loss: 3.7114 - val_accuracy: 0.6250\n",
            "Epoch 18/20\n",
            "81/81 [==============================] - 4s 44ms/step - loss: 0.1167 - accuracy: 0.9822 - val_loss: 5.2443 - val_accuracy: 0.6250\n",
            "Epoch 19/20\n",
            "81/81 [==============================] - 4s 44ms/step - loss: 0.1579 - accuracy: 0.9804 - val_loss: 4.6717 - val_accuracy: 0.6250\n",
            "Epoch 20/20\n",
            "81/81 [==============================] - 4s 44ms/step - loss: 0.1254 - accuracy: 0.9835 - val_loss: 4.1217 - val_accuracy: 0.6250\n"
          ]
        }
      ]
    },
    {
      "cell_type": "code",
      "source": [],
      "metadata": {
        "id": "m_r7iozTnS_E"
      },
      "execution_count": null,
      "outputs": []
    }
  ]
}